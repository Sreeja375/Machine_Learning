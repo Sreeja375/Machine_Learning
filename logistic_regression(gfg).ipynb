{
  "nbformat": 4,
  "nbformat_minor": 0,
  "metadata": {
    "colab": {
      "provenance": []
    },
    "kernelspec": {
      "name": "python3",
      "display_name": "Python 3"
    },
    "language_info": {
      "name": "python"
    }
  },
  "cells": [
    {
      "cell_type": "markdown",
      "source": [
        "bionomial logistic regression"
      ],
      "metadata": {
        "id": "WY5g5gSOsEMV"
      }
    },
    {
      "cell_type": "code",
      "execution_count": 1,
      "metadata": {
        "colab": {
          "base_uri": "https://localhost:8080/"
        },
        "id": "JZ7Zfej9rOD-",
        "outputId": "6e2f545d-5d93-403e-9a0b-9b9bdc9f0dbb"
      },
      "outputs": [
        {
          "output_type": "stream",
          "name": "stdout",
          "text": [
            "Logistic Regression model accuracy: 96.49%\n"
          ]
        }
      ],
      "source": [
        "from sklearn.datasets import load_breast_cancer\n",
        "from sklearn.linear_model import LogisticRegression\n",
        "from sklearn.model_selection import train_test_split\n",
        "from sklearn.metrics import accuracy_score\n",
        "\n",
        "X, y = load_breast_cancer(return_X_y=True)\n",
        "\n",
        "X_train, X_test, y_train, y_test = train_test_split(X, y, test_size=0.20, random_state=23)\n",
        "\n",
        "clf = LogisticRegression(max_iter=10000, random_state=0)\n",
        "clf.fit(X_train, y_train)\n",
        "\n",
        "acc = accuracy_score(y_test, clf.predict(X_test)) * 100\n",
        "print(f\"Logistic Regression model accuracy: {acc:.2f}%\")"
      ]
    },
    {
      "cell_type": "markdown",
      "source": [
        "multinomial linear regression"
      ],
      "metadata": {
        "id": "Z0trAc8BsTZ1"
      }
    },
    {
      "cell_type": "code",
      "source": [
        "from sklearn.model_selection import train_test_split\n",
        "from sklearn import datasets, linear_model, metrics\n",
        "\n",
        "digits = datasets.load_digits()\n",
        "\n",
        "X = digits.data\n",
        "y = digits.target\n",
        "\n",
        "X_train, X_test, y_train, y_test = train_test_split(X, y, test_size=0.4, random_state=1)\n",
        "\n",
        "reg = linear_model.LogisticRegression(max_iter=10000, random_state=0)\n",
        "reg.fit(X_train, y_train)\n",
        "\n",
        "y_pred = reg.predict(X_test)\n",
        "\n",
        "print(f\"Logistic Regression model accuracy: {metrics.accuracy_score(y_test, y_pred) * 100:.2f}%\")"
      ],
      "metadata": {
        "colab": {
          "base_uri": "https://localhost:8080/"
        },
        "id": "yLx0WU9NsI9J",
        "outputId": "b1f04e96-b526-4700-8342-20195cd591c6"
      },
      "execution_count": 2,
      "outputs": [
        {
          "output_type": "stream",
          "name": "stdout",
          "text": [
            "Logistic Regression model accuracy: 96.66%\n"
          ]
        }
      ]
    }
  ]
}