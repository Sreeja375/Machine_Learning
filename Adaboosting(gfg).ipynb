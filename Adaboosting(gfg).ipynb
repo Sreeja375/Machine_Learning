{
  "nbformat": 4,
  "nbformat_minor": 0,
  "metadata": {
    "colab": {
      "provenance": []
    },
    "kernelspec": {
      "name": "python3",
      "display_name": "Python 3"
    },
    "language_info": {
      "name": "python"
    }
  },
  "cells": [
    {
      "cell_type": "code",
      "execution_count": 1,
      "metadata": {
        "id": "x_5F6iBTnVtZ"
      },
      "outputs": [],
      "source": [
        "import numpy as np\n",
        "from sklearn.tree import DecisionTreeClassifier\n",
        "from sklearn.datasets import load_iris\n",
        "from sklearn.datasets import make_classification\n",
        "from sklearn.model_selection import train_test_split\n",
        "from sklearn.metrics import accuracy_score, confusion_matrix, precision_score, recall_score, f1_score, roc_auc_score"
      ]
    },
    {
      "cell_type": "code",
      "source": [
        "#defining adaboosting class\n",
        "class AdaBoost:\n",
        "    def __init__(self, n_estimators=50):\n",
        "        self.n_estimators = n_estimators\n",
        "        self.alphas = []\n",
        "        self.models = []\n",
        "\n",
        "    #training adaboost model\n",
        "    def fit(self, X, y):\n",
        "        n_samples, n_features = X.shape\n",
        "        w = np.ones(n_samples) / n_samples\n",
        "\n",
        "        for _ in range(self.n_estimators):\n",
        "            model = DecisionTreeClassifier(max_depth=1)\n",
        "            model.fit(X, y, sample_weight=w)\n",
        "            predictions = model.predict(X)\n",
        "\n",
        "            err = np.sum(w * (predictions != y)) / np.sum(w)\n",
        "\n",
        "            alpha = 0.5 * np.log((1 - err) / (err + 1e-10))\n",
        "\n",
        "            self.models.append(model)\n",
        "            self.alphas.append(alpha)\n",
        "\n",
        "            w *= np.exp(-alpha * y * predictions)\n",
        "            w /= np.sum(w)\n",
        "\n",
        "    #defining predictions\n",
        "    def predict(self, X):\n",
        "        strong_preds = np.zeros(X.shape[0])\n",
        "\n",
        "        for model, alpha in zip(self.models, self.alphas):\n",
        "            predictions = model.predict(X)\n",
        "            strong_preds += alpha * predictions\n",
        "\n",
        "        return np.sign(strong_preds).astype(int)"
      ],
      "metadata": {
        "id": "tQgaV3EIndb7"
      },
      "execution_count": 5,
      "outputs": []
    },
    {
      "cell_type": "code",
      "source": [
        "#training adaboost model\n",
        "def fit(self, X, y):\n",
        "        n_samples, n_features = X.shape\n",
        "        w = np.ones(n_samples) / n_samples\n",
        "\n",
        "        for _ in range(self.n_estimators):\n",
        "            model = DecisionTreeClassifier(max_depth=1)\n",
        "            model.fit(X, y, sample_weight=w)\n",
        "            predictions = model.predict(X)\n",
        "\n",
        "            err = np.sum(w * (predictions != y)) / np.sum(w)\n",
        "\n",
        "            alpha = 0.5 * np.log((1 - err) / (err + 1e-10))\n",
        "\n",
        "            self.models.append(model)\n",
        "            self.alphas.append(alpha)\n",
        "\n",
        "            w *= np.exp(-alpha * y * predictions)\n",
        "            w /= np.sum(w)"
      ],
      "metadata": {
        "id": "GkIM87vwnkg3"
      },
      "execution_count": 6,
      "outputs": []
    },
    {
      "cell_type": "code",
      "source": [
        "#defining predictions\n",
        "def predict(self, X):\n",
        "        strong_preds = np.zeros(X.shape[0])\n",
        "\n",
        "        for model, alpha in zip(self.models, self.alphas):\n",
        "            predictions = model.predict(X)\n",
        "            strong_preds += alpha * predictions\n",
        "\n",
        "        return np.sign(strong_preds).astype(int)"
      ],
      "metadata": {
        "id": "n5-Y7gWunrGQ"
      },
      "execution_count": 7,
      "outputs": []
    },
    {
      "cell_type": "code",
      "source": [
        "#example usage\n",
        "if __name__ == \"__main__\":\n",
        "\n",
        "    X, y = make_classification(n_samples=1000, n_features=20, n_classes=2, random_state=42)\n",
        "    X_train, X_test, y_train, y_test = train_test_split(X, y, test_size=0.3, random_state=42)\n",
        "\n",
        "    adaboost = AdaBoost(n_estimators=50)\n",
        "    adaboost.fit(X_train, y_train)\n",
        "\n",
        "    predictions = adaboost.predict(X_test)\n",
        "\n",
        "    accuracy = accuracy_score(y_test, predictions)\n",
        "    precision = precision_score(y_test, predictions)\n",
        "    recall = recall_score(y_test, predictions)\n",
        "    f1 = f1_score(y_test, predictions)\n",
        "    try:\n",
        "        roc_auc = roc_auc_score(y_test, predictions)\n",
        "    except ValueError:\n",
        "        roc_auc = 'Undefined (requires probability scores)'\n",
        "\n",
        "    print(f\"Accuracy: {accuracy * 100}%\")\n",
        "    print(f\"Precision: {precision}\")\n",
        "    print(f\"Recall: {recall}\")\n",
        "    print(f\"F1 Score: {f1}\")\n",
        "    print(f\"ROC-AUC: {roc_auc}\")"
      ],
      "metadata": {
        "colab": {
          "base_uri": "https://localhost:8080/"
        },
        "id": "tgid6WPboAI0",
        "outputId": "5bcdcd44-4b7b-4b30-8adb-18349e12b6b5"
      },
      "execution_count": 8,
      "outputs": [
        {
          "output_type": "stream",
          "name": "stdout",
          "text": [
            "Accuracy: 84.0%\n",
            "Precision: 0.8364779874213837\n",
            "Recall: 0.8580645161290322\n",
            "F1 Score: 0.8471337579617835\n",
            "ROC-AUC: 0.839377085650723\n"
          ]
        }
      ]
    },
    {
      "cell_type": "markdown",
      "source": [
        "Gradient boosting in regression"
      ],
      "metadata": {
        "id": "54NOTiDbrbpS"
      }
    },
    {
      "cell_type": "code",
      "source": [
        "from sklearn.ensemble import GradientBoostingRegressor\n",
        "from sklearn.model_selection import train_test_split\n",
        "from sklearn.metrics import mean_squared_error\n",
        "from sklearn.datasets import load_diabetes\n",
        "\n",
        "SEED = 23\n",
        "\n",
        "X, y = load_diabetes(return_X_y=True)\n",
        "\n",
        "train_X, test_X, train_y, test_y = train_test_split(X, y,\n",
        "                                                    test_size = 0.25,\n",
        "                                                    random_state = SEED)\n",
        "\n",
        "gbr = GradientBoostingRegressor(loss='absolute_error',\n",
        "                                learning_rate=0.1,\n",
        "                                n_estimators=300,\n",
        "                                max_depth = 1,\n",
        "                                random_state = SEED,\n",
        "                                max_features = 5)\n",
        "\n",
        "gbr.fit(train_X, train_y)\n",
        "\n",
        "pred_y = gbr.predict(test_X)\n",
        "\n",
        "test_rmse = mean_squared_error(test_y, pred_y) ** (1 / 2)\n",
        "\n",
        "print('Root mean Square error: {:.2f}'.format(test_rmse))"
      ],
      "metadata": {
        "colab": {
          "base_uri": "https://localhost:8080/"
        },
        "id": "y1Ybkvbrrf99",
        "outputId": "48eef111-b37b-44f7-fd55-c1ab38ba4011"
      },
      "execution_count": 9,
      "outputs": [
        {
          "output_type": "stream",
          "name": "stdout",
          "text": [
            "Root mean Square error: 56.39\n"
          ]
        }
      ]
    },
    {
      "cell_type": "markdown",
      "source": [
        "Gradient boosting in classification"
      ],
      "metadata": {
        "id": "oLXBp8NprhvH"
      }
    },
    {
      "cell_type": "code",
      "source": [
        "from sklearn.ensemble import GradientBoostingClassifier\n",
        "from sklearn.model_selection import train_test_split\n",
        "from sklearn.metrics import accuracy_score\n",
        "from sklearn.datasets import load_digits\n",
        "\n",
        "SEED = 23\n",
        "\n",
        "X, y = load_digits(return_X_y=True)\n",
        "\n",
        "train_X, test_X, train_y, test_y = train_test_split(X, y,\n",
        "                                                    test_size = 0.25,\n",
        "                                                    random_state = SEED)\n",
        "\n",
        "gbc = GradientBoostingClassifier(n_estimators=300,\n",
        "                                 learning_rate=0.05,\n",
        "                                 random_state=100,\n",
        "                                 max_features=5 )\n",
        "\n",
        "gbc.fit(train_X, train_y)\n",
        "\n",
        "pred_y = gbc.predict(test_X)\n",
        "\n",
        "acc = accuracy_score(test_y, pred_y)\n",
        "print(\"Gradient Boosting Classifier accuracy is : {:.2f}\".format(acc))"
      ],
      "metadata": {
        "colab": {
          "base_uri": "https://localhost:8080/"
        },
        "id": "6bsq1Em4rpGA",
        "outputId": "f84246f8-6a28-4281-f333-ce711118d9bb"
      },
      "execution_count": 10,
      "outputs": [
        {
          "output_type": "stream",
          "name": "stdout",
          "text": [
            "Gradient Boosting Classifier accuracy is : 0.98\n"
          ]
        }
      ]
    }
  ]
}