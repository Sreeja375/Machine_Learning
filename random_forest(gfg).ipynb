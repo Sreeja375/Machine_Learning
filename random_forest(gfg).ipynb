{
  "nbformat": 4,
  "nbformat_minor": 0,
  "metadata": {
    "colab": {
      "provenance": []
    },
    "kernelspec": {
      "name": "python3",
      "display_name": "Python 3"
    },
    "language_info": {
      "name": "python"
    }
  },
  "cells": [
    {
      "cell_type": "markdown",
      "source": [
        "Random Forest Hyperparameter Tuning using Sklearn"
      ],
      "metadata": {
        "id": "fsrBszQRW8SK"
      }
    },
    {
      "cell_type": "code",
      "execution_count": 1,
      "metadata": {
        "colab": {
          "base_uri": "https://localhost:8080/"
        },
        "id": "nnFW63hkWfBh",
        "outputId": "5366b4d7-2e5b-42e6-ab44-0540c5738c4b"
      },
      "outputs": [
        {
          "output_type": "stream",
          "name": "stdout",
          "text": [
            "              precision    recall  f1-score   support\n",
            "\n",
            "           0       0.75      0.90      0.82       110\n",
            "           1       0.91      0.78      0.84       147\n",
            "\n",
            "    accuracy                           0.83       257\n",
            "   macro avg       0.83      0.84      0.83       257\n",
            "weighted avg       0.84      0.83      0.83       257\n",
            "\n"
          ]
        }
      ],
      "source": [
        "from sklearn.metrics import classification_report\n",
        "from sklearn.model_selection import train_test_split\n",
        "import pandas as pd\n",
        "from sklearn.ensemble import RandomForestClassifier\n",
        "from sklearn.model_selection import GridSearchCV, RandomizedSearchCV\n",
        "\n",
        "data = pd.read_csv(\"/content/heart.csv\")\n",
        "data.head(7)\n",
        "\n",
        "X = data.drop(\"target\", axis=1)\n",
        "y = data['target']\n",
        "\n",
        "X_train, X_test, y_train, y_test = train_test_split(X, y, test_size=0.25, random_state=42)\n",
        "\n",
        "model = RandomForestClassifier(\n",
        "    n_estimators=100,\n",
        "    max_features=\"sqrt\",\n",
        "    max_depth=6,\n",
        "    max_leaf_nodes=6\n",
        ")\n",
        "\n",
        "model.fit(X_train, y_train)\n",
        "\n",
        "y_pred = model.predict(X_test)\n",
        "\n",
        "print(classification_report(y_pred, y_test))"
      ]
    },
    {
      "cell_type": "markdown",
      "source": [
        ". Hyperparameter Tuning using GridSearchCV"
      ],
      "metadata": {
        "id": "IDzyVCSLXKxc"
      }
    },
    {
      "cell_type": "code",
      "source": [
        "from sklearn.model_selection import GridSearchCV\n",
        "from sklearn.ensemble import RandomForestClassifier\n",
        "\n",
        "param_grid = {\n",
        "    'n_estimators': [100, 200],\n",
        "    'max_depth': [None, 10, 20],\n",
        "    'min_samples_split': [2, 5],\n",
        "    'min_samples_leaf': [1, 2],\n",
        "    'bootstrap': [True, False]\n",
        "}\n",
        "\n",
        "grid_search = GridSearchCV(RandomForestClassifier(), param_grid=param_grid, cv=5)\n",
        "grid_search.fit(X_train, y_train)\n",
        "\n",
        "print(\"Best Parameters:\", grid_search.best_params_)\n",
        "print(\"Best Estimator:\", grid_search.best_estimator_)"
      ],
      "metadata": {
        "colab": {
          "base_uri": "https://localhost:8080/"
        },
        "id": "U_UMofinXKg0",
        "outputId": "7bb1a213-5369-4570-f76f-4610c356df3e"
      },
      "execution_count": 2,
      "outputs": [
        {
          "output_type": "stream",
          "name": "stdout",
          "text": [
            "Best Parameters: {'bootstrap': False, 'max_depth': None, 'min_samples_leaf': 1, 'min_samples_split': 2, 'n_estimators': 200}\n",
            "Best Estimator: RandomForestClassifier(bootstrap=False, n_estimators=200)\n"
          ]
        }
      ]
    },
    {
      "cell_type": "markdown",
      "source": [
        "1.)param_grid: A dictionary containing hyperparameters and their possible values. GridSearchCV will try every combination of these values to find the best-performing set of hyperparameters.\n",
        "2.)grid_search.fit(X_train, y_train): This trains the model on the training data (X_train, y_train) for every combination of hyperparameters defined in param_grid.\n",
        "3.)grid_search.best_estimator_: After completing the grid search, this will print the RandomForest model that has the best combination of hyperparameters from the search."
      ],
      "metadata": {
        "id": "ZPDbTV-_X5dI"
      }
    },
    {
      "cell_type": "code",
      "source": [
        "#updating the model\n",
        "model_grid = RandomForestClassifier(max_depth=3,\n",
        "                                    max_features=\"log2\",\n",
        "                                    max_leaf_nodes=3,\n",
        "                                    n_estimators=50)\n",
        "model_grid.fit(X_train, y_train)\n",
        "y_pred_grid = model.predict(X_test)\n",
        "print(classification_report(y_pred_grid, y_test))"
      ],
      "metadata": {
        "colab": {
          "base_uri": "https://localhost:8080/"
        },
        "id": "osfwdazxYChW",
        "outputId": "4c21ab69-02c4-4fab-a73c-d4aede3d2c04"
      },
      "execution_count": 3,
      "outputs": [
        {
          "output_type": "stream",
          "name": "stdout",
          "text": [
            "              precision    recall  f1-score   support\n",
            "\n",
            "           0       0.75      0.90      0.82       110\n",
            "           1       0.91      0.78      0.84       147\n",
            "\n",
            "    accuracy                           0.83       257\n",
            "   macro avg       0.83      0.84      0.83       257\n",
            "weighted avg       0.84      0.83      0.83       257\n",
            "\n"
          ]
        }
      ]
    },
    {
      "cell_type": "markdown",
      "source": [
        " Hyperparameter Tuning using RandomizedSearchCV"
      ],
      "metadata": {
        "id": "C_jMoXLDYUnO"
      }
    },
    {
      "cell_type": "code",
      "source": [
        "random_search = RandomizedSearchCV(RandomForestClassifier(),\n",
        "                                   param_grid)\n",
        "random_search.fit(X_train, y_train)\n",
        "print(random_search.best_estimator_)"
      ],
      "metadata": {
        "colab": {
          "base_uri": "https://localhost:8080/"
        },
        "id": "fj0tbIUnYYF7",
        "outputId": "1b685f3a-3505-4ed2-c2e7-2e875cc57a5b"
      },
      "execution_count": 4,
      "outputs": [
        {
          "output_type": "stream",
          "name": "stdout",
          "text": [
            "RandomForestClassifier(bootstrap=False, max_depth=10)\n"
          ]
        }
      ]
    },
    {
      "cell_type": "markdown",
      "source": [
        "param_grid specifies the hyperparameters that you want to tune similar to the grid in GridSearchCV.\n",
        "fit(X_train, y_train) trains the model using the training data.\n",
        "best_estimator_ shows the model with the best combination of hyperparameters found by the search process."
      ],
      "metadata": {
        "id": "KLfQHO5wYmpT"
      }
    },
    {
      "cell_type": "code",
      "source": [
        "#updating model\n",
        "model_random = RandomForestClassifier(max_depth=3,\n",
        "                                      max_features='log2',\n",
        "                                      max_leaf_nodes=6,\n",
        "                                      n_estimators=100)\n",
        "model_random.fit(X_train, y_train)\n",
        "y_pred_rand = model.predict(X_test)\n",
        "print(classification_report(y_pred_rand, y_test))"
      ],
      "metadata": {
        "colab": {
          "base_uri": "https://localhost:8080/"
        },
        "id": "2q9fb5ggYraT",
        "outputId": "7c138ca7-a931-4d13-b596-953382b727d1"
      },
      "execution_count": 5,
      "outputs": [
        {
          "output_type": "stream",
          "name": "stdout",
          "text": [
            "              precision    recall  f1-score   support\n",
            "\n",
            "           0       0.75      0.90      0.82       110\n",
            "           1       0.91      0.78      0.84       147\n",
            "\n",
            "    accuracy                           0.83       257\n",
            "   macro avg       0.83      0.84      0.83       257\n",
            "weighted avg       0.84      0.83      0.83       257\n",
            "\n"
          ]
        }
      ]
    }
  ]
}