{
  "nbformat": 4,
  "nbformat_minor": 0,
  "metadata": {
    "colab": {
      "provenance": []
    },
    "kernelspec": {
      "name": "python3",
      "display_name": "Python 3"
    },
    "language_info": {
      "name": "python"
    }
  },
  "cells": [
    {
      "cell_type": "code",
      "execution_count": 1,
      "metadata": {
        "id": "WvrFSNDD48io"
      },
      "outputs": [],
      "source": [
        "from sklearn.model_selection import cross_val_score, KFold\n",
        "from sklearn.svm import SVC\n",
        "from sklearn.datasets import load_iris"
      ]
    },
    {
      "cell_type": "code",
      "source": [
        "iris = load_iris()\n",
        "X, y = iris.data, iris.target"
      ],
      "metadata": {
        "id": "kw3fi2ga5HgW"
      },
      "execution_count": 2,
      "outputs": []
    },
    {
      "cell_type": "code",
      "source": [
        "svm_classifier = SVC(kernel='linear')#Creating SVM classifier"
      ],
      "metadata": {
        "id": "j5tnH93q5KG8"
      },
      "execution_count": 3,
      "outputs": []
    },
    {
      "cell_type": "code",
      "source": [
        "num_folds = 5\n",
        "kf = KFold(n_splits=num_folds, shuffle=True, random_state=42)# Defining the number of folds for cross-validation"
      ],
      "metadata": {
        "id": "GqiQgdj75Pmt"
      },
      "execution_count": 4,
      "outputs": []
    },
    {
      "cell_type": "code",
      "source": [
        "cross_val_results = cross_val_score(svm_classifier, X, y, cv=kf)#Performing k-fold cross-validation"
      ],
      "metadata": {
        "id": "bDx3jzhp5UxG"
      },
      "execution_count": null,
      "outputs": []
    },
    {
      "cell_type": "code",
      "source": [
        "print(\"Cross-Validation Results (Accuracy):\")\n",
        "for i, result in enumerate(cross_val_results, 1):\n",
        "    print(f\"  Fold {i}: {result * 100:.2f}%\")\n",
        "\n",
        "print(f'Mean Accuracy: {cross_val_results.mean()* 100:.2f}%')#Evaluation metrics"
      ],
      "metadata": {
        "colab": {
          "base_uri": "https://localhost:8080/",
          "height": 228
        },
        "id": "mOUsO6yw5acQ",
        "outputId": "5f6acc21-16d5-4b3f-9ed3-31a8ebd1376d"
      },
      "execution_count": 5,
      "outputs": [
        {
          "output_type": "stream",
          "name": "stdout",
          "text": [
            "Cross-Validation Results (Accuracy):\n"
          ]
        },
        {
          "output_type": "error",
          "ename": "NameError",
          "evalue": "name 'cross_val_results' is not defined",
          "traceback": [
            "\u001b[0;31m---------------------------------------------------------------------------\u001b[0m",
            "\u001b[0;31mNameError\u001b[0m                                 Traceback (most recent call last)",
            "\u001b[0;32m/tmp/ipython-input-664410461.py\u001b[0m in \u001b[0;36m<cell line: 0>\u001b[0;34m()\u001b[0m\n\u001b[1;32m      1\u001b[0m \u001b[0mprint\u001b[0m\u001b[0;34m(\u001b[0m\u001b[0;34m\"Cross-Validation Results (Accuracy):\"\u001b[0m\u001b[0;34m)\u001b[0m\u001b[0;34m\u001b[0m\u001b[0;34m\u001b[0m\u001b[0m\n\u001b[0;32m----> 2\u001b[0;31m \u001b[0;32mfor\u001b[0m \u001b[0mi\u001b[0m\u001b[0;34m,\u001b[0m \u001b[0mresult\u001b[0m \u001b[0;32min\u001b[0m \u001b[0menumerate\u001b[0m\u001b[0;34m(\u001b[0m\u001b[0mcross_val_results\u001b[0m\u001b[0;34m,\u001b[0m \u001b[0;36m1\u001b[0m\u001b[0;34m)\u001b[0m\u001b[0;34m:\u001b[0m\u001b[0;34m\u001b[0m\u001b[0;34m\u001b[0m\u001b[0m\n\u001b[0m\u001b[1;32m      3\u001b[0m     \u001b[0mprint\u001b[0m\u001b[0;34m(\u001b[0m\u001b[0;34mf\"  Fold {i}: {result * 100:.2f}%\"\u001b[0m\u001b[0;34m)\u001b[0m\u001b[0;34m\u001b[0m\u001b[0;34m\u001b[0m\u001b[0m\n\u001b[1;32m      4\u001b[0m \u001b[0;34m\u001b[0m\u001b[0m\n\u001b[1;32m      5\u001b[0m \u001b[0mprint\u001b[0m\u001b[0;34m(\u001b[0m\u001b[0;34mf'Mean Accuracy: {cross_val_results.mean()* 100:.2f}%'\u001b[0m\u001b[0;34m)\u001b[0m\u001b[0;31m#Evaluation metrics\u001b[0m\u001b[0;34m\u001b[0m\u001b[0;34m\u001b[0m\u001b[0m\n",
            "\u001b[0;31mNameError\u001b[0m: name 'cross_val_results' is not defined"
          ]
        }
      ]
    },
    {
      "cell_type": "code",
      "metadata": {
        "id": "7acbce07"
      },
      "source": [
        "cross_val_results = cross_val_score(svm_classifier, X, y, cv=kf)#Performing k-fold cross-validation"
      ],
      "execution_count": 7,
      "outputs": []
    },
    {
      "cell_type": "code",
      "metadata": {
        "colab": {
          "base_uri": "https://localhost:8080/"
        },
        "id": "8db0967d",
        "outputId": "1e3fea7b-3745-485e-c393-075d8d1c96cf"
      },
      "source": [
        "print(\"Cross-Validation Results (Accuracy):\")\n",
        "for i, result in enumerate(cross_val_results, 1):\n",
        "    print(f\"  Fold {i}: {result * 100:.2f}%\")\n",
        "\n",
        "print(f'Mean Accuracy: {cross_val_results.mean()* 100:.2f}%')#Evaluation metrics"
      ],
      "execution_count": 8,
      "outputs": [
        {
          "output_type": "stream",
          "name": "stdout",
          "text": [
            "Cross-Validation Results (Accuracy):\n",
            "  Fold 1: 100.00%\n",
            "  Fold 2: 100.00%\n",
            "  Fold 3: 96.67%\n",
            "  Fold 4: 93.33%\n",
            "  Fold 5: 96.67%\n",
            "Mean Accuracy: 97.33%\n"
          ]
        }
      ]
    },
    {
      "cell_type": "markdown",
      "source": [
        "hyper parameter tunning"
      ],
      "metadata": {
        "id": "1pZUuBXECtL7"
      }
    },
    {
      "cell_type": "markdown",
      "source": [
        " Tuning Logistic Regression with GridSearchCV"
      ],
      "metadata": {
        "id": "exjoDIy-DCRH"
      }
    },
    {
      "cell_type": "code",
      "source": [
        "from sklearn.linear_model import LogisticRegression\n",
        "from sklearn.model_selection import GridSearchCV\n",
        "import numpy as np\n",
        "from sklearn.datasets import make_classification\n",
        "\n",
        "X, y = make_classification(\n",
        "    n_samples=1000, n_features=20, n_informative=10, n_classes=2, random_state=42)\n",
        "\n",
        "c_space = np.logspace(-5, 8, 15)\n",
        "param_grid = {'C': c_space}\n",
        "\n",
        "logreg = LogisticRegression()\n",
        "\n",
        "logreg_cv = GridSearchCV(logreg, param_grid, cv=5)\n",
        "\n",
        "logreg_cv.fit(X, y)\n",
        "\n",
        "print(\"Tuned Logistic Regression Parameters: {}\".format(logreg_cv.best_params_))\n",
        "print(\"Best score is {}\".format(logreg_cv.best_score_))"
      ],
      "metadata": {
        "colab": {
          "base_uri": "https://localhost:8080/"
        },
        "id": "MOhsd4c6CzMZ",
        "outputId": "d30ca52e-3f0a-400a-e6ec-723146fd4fd3"
      },
      "execution_count": 9,
      "outputs": [
        {
          "output_type": "stream",
          "name": "stdout",
          "text": [
            "Tuned Logistic Regression Parameters: {'C': np.float64(0.006105402296585327)}\n",
            "Best score is 0.853\n"
          ]
        }
      ]
    },
    {
      "cell_type": "markdown",
      "source": [
        ". RandomizedSearchCV (Tuning Decision Tree with RandomizedSearchCV)"
      ],
      "metadata": {
        "id": "IIZQSqQJDN11"
      }
    },
    {
      "cell_type": "code",
      "source": [
        "import numpy as np\n",
        "from sklearn.datasets import make_classification\n",
        "\n",
        "X, y = make_classification(n_samples=1000, n_features=20, n_informative=10, n_classes=2, random_state=42)\n",
        "\n",
        "from scipy.stats import randint\n",
        "from sklearn.tree import DecisionTreeClassifier\n",
        "from sklearn.model_selection import RandomizedSearchCV\n",
        "\n",
        "param_dist = {\n",
        "    \"max_depth\": [3, None],\n",
        "    \"max_features\": randint(1, 9),\n",
        "    \"min_samples_leaf\": randint(1, 9),\n",
        "    \"criterion\": [\"gini\", \"entropy\"]\n",
        "}\n",
        "\n",
        "tree = DecisionTreeClassifier()\n",
        "tree_cv = RandomizedSearchCV(tree, param_dist, cv=5)\n",
        "tree_cv.fit(X, y)\n",
        "\n",
        "print(\"Tuned Decision Tree Parameters: {}\".format(tree_cv.best_params_))\n",
        "print(\"Best score is {}\".format(tree_cv.best_score_))"
      ],
      "metadata": {
        "colab": {
          "base_uri": "https://localhost:8080/"
        },
        "id": "XLWcCiJ-DQIk",
        "outputId": "bb2638f5-63e9-4a74-ac00-60de5ecb2610"
      },
      "execution_count": 10,
      "outputs": [
        {
          "output_type": "stream",
          "name": "stdout",
          "text": [
            "Tuned Decision Tree Parameters: {'criterion': 'gini', 'max_depth': None, 'max_features': 7, 'min_samples_leaf': 4}\n",
            "Best score is 0.8150000000000001\n"
          ]
        }
      ]
    },
    {
      "cell_type": "code",
      "source": [],
      "metadata": {
        "id": "JEPui1f6DhAV"
      },
      "execution_count": null,
      "outputs": []
    }
  ]
}